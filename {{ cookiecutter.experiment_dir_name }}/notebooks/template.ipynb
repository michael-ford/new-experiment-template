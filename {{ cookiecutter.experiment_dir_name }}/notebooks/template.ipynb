{
 "cells": [
  {
   "cell_type": "code",
   "execution_count": null,
   "metadata": {
    "papermill": {
     "duration": 0.276497,
     "end_time": "2021-02-20T20:57:29.557974",
     "exception": false,
     "start_time": "2021-02-20T20:57:29.281477",
     "status": "completed"
    },
    "tags": []
   },
   "outputs": [],
   "source": [
    "%load_ext autoreload\n",
    "%autoreload 2\n",
    "\n",
    "%matplotlib inline\n",
    "import matplotlib.pyplot as plt\n",
    "\n",
    "import os\n",
    "os.chdir('../')"
   ]
  },
  {
   "cell_type": "code",
   "execution_count": null,
   "metadata": {
    "papermill": {
     "duration": 0.094931,
     "end_time": "2021-02-20T20:57:29.682290",
     "exception": false,
     "start_time": "2021-02-20T20:57:29.587359",
     "status": "completed"
    },
    "tags": []
   },
   "outputs": [],
   "source": [
    "# Import packages\n",
    "import os, random\n",
    "import logbook\n",
    "from IPython.display import Markdown as md\n",
    "from IPython.display import display\n",
    "from src.common import log, initialize_logger, markdown_table\n",
    "\n",
    "initialize_logger(console_level='DEBUG', log_file_path='', overwrite=True)"
   ]
  },
  {
   "cell_type": "code",
   "execution_count": null,
   "metadata": {
    "papermill": {
     "duration": 0.039467,
     "end_time": "2021-02-20T20:57:29.749567",
     "exception": false,
     "start_time": "2021-02-20T20:57:29.710100",
     "status": "completed"
    },
    "tags": [
     "parameters"
    ]
   },
   "outputs": [],
   "source": [
    "EXPERIMENT_NAME = \"\"\n",
    "RANDOM_SEED = 2675\n",
    "WRITE_REPORT = False\n",
    "WRITE_REPORT_PATH = f\"results/{EXPERIMENT_NAME}.html\"\n",
    "WRITE_REPORT_PATH_NO_CODE = f\"results/{EXPERIMENT_NAME}-no_code.html\"\n",
    "WRITE_PARAMETERS = False\n",
    "WRITE_PARAMETERS_PATH = f\"results/{EXPERIMENT_NAME}-parameters.tsv\"\n",
    "WRITE_OUTPUTS = False"
   ]
  },
  {
   "cell_type": "code",
   "execution_count": null,
   "metadata": {
    "papermill": {
     "duration": 0.040299,
     "end_time": "2021-02-20T20:57:29.887336",
     "exception": false,
     "start_time": "2021-02-20T20:57:29.847037",
     "status": "completed"
    },
    "tags": []
   },
   "outputs": [],
   "source": [
    "if WRITE_OUTPUTS:\n",
    "    WRITE_REPORT = True\n",
    "    WRITE_CALLS = True\n",
    "    WRITE_PARAMETERS = True\n",
    "\n",
    "random.seed(RANDOM_SEED)\n",
    "\n",
    "PARAMETERS = [('Random seed', RANDOM_SEED)] # experiment parameters as defined in above parameters cell\n",
    "\n",
    "OUTPUTS = [] # output paths that will be tracked by git\n",
    "DVC_OUTPUTS = [] # paths of output files (e.g. data files) that will be tracked by DVC\n",
    "\n",
    "DEPENDENCIES = []\n",
    "\n",
    "if WRITE_REPORT:\n",
    "    OUTPUTS.append(WRITE_REPORT_PATH)\n",
    "    OUTPUTS.append(WRITE_REPORT_PATH_NO_CODE)\n",
    "if WRITE_PARAMETERS:\n",
    "    OUTPUTS.append(WRITE_PARAMETERS_PATH)\n"
   ]
  },
  {
   "cell_type": "code",
   "execution_count": null,
   "metadata": {
    "papermill": {
     "duration": 0.042252,
     "end_time": "2021-02-20T20:57:29.957790",
     "exception": false,
     "start_time": "2021-02-20T20:57:29.915538",
     "status": "completed"
    },
    "tags": []
   },
   "outputs": [],
   "source": [
    "parameter_table = markdown_table(['', ''], PARAMETERS) if PARAMETERS else None\n",
    "output_table = markdown_table([' '], OUTPUTS) if OUTPUTS else None\n",
    "dependencies_table = markdown_table([' '], [[x] for x in DEPENDENCIES]) if DEPENDENCIES else None\n",
    "\n",
    "md(f'''# Title: {EXPERIMENT_NAME} \n",
    "\n",
    "## Method\n",
    "1. Step one\n",
    "XX. Write outputs\n",
    "\n",
    "## Parameters:\n",
    "{parameter_table}\n",
    "## Dependencies\n",
    "{dependencies_table}\n",
    "\n",
    "--------\n",
    "## Outputs\n",
    "\n",
    "{output_table}\n",
    "''')"
   ]
  },
  {
   "cell_type": "markdown",
   "metadata": {
    "papermill": {
     "duration": 0.028999,
     "end_time": "2021-02-20T20:57:30.015968",
     "exception": false,
     "start_time": "2021-02-20T20:57:29.986969",
     "status": "completed"
    },
    "tags": []
   },
   "source": [
    "----------\n",
    "## DVC parameters"
   ]
  },
  {
   "cell_type": "code",
   "execution_count": null,
   "metadata": {
    "papermill": {
     "duration": 0.045707,
     "end_time": "2021-02-20T20:57:30.090580",
     "exception": false,
     "start_time": "2021-02-20T20:57:30.044873",
     "status": "completed"
    },
    "tags": []
   },
   "outputs": [],
   "source": [
    "for d in DEPENDENCIES:\n",
    "    print('-d ../' +d+ \" \\\\\")\n",
    "for o in OUTPUTS:\n",
    "    print('-O ../' +o+ \" \\\\\")\n",
    "for o in DVC_OUTPUTS:\n",
    "    print('-o ../' +o+ \" \\\\\")"
   ]
  },
  {
   "cell_type": "markdown",
   "metadata": {
    "papermill": {
     "duration": 0.031458,
     "end_time": "2021-02-20T20:57:30.153714",
     "exception": false,
     "start_time": "2021-02-20T20:57:30.122256",
     "status": "completed"
    },
    "tags": []
   },
   "source": [
    "-----\n",
    "## 1. Step 1"
   ]
  },
  {
   "cell_type": "markdown",
   "metadata": {
    "papermill": {
     "duration": 0.112433,
     "end_time": "2021-02-20T21:03:25.001766",
     "exception": false,
     "start_time": "2021-02-20T21:03:24.889333",
     "status": "completed"
    },
    "tags": []
   },
   "source": [
    "-----\n",
    "## XX. Write outputs\n",
    "-----"
   ]
  },
  {
   "cell_type": "code",
   "execution_count": null,
   "metadata": {
    "papermill": {
     "duration": 3.671467,
     "end_time": "2021-02-20T21:03:29.035060",
     "exception": false,
     "start_time": "2021-02-20T21:03:25.363593",
     "status": "completed"
    },
    "tags": []
   },
   "outputs": [],
   "source": [
    "if WRITE_REPORT:\n",
    "    os.system(f'jupyter nbconvert --output ../{WRITE_REPORT_PATH} --to html notebooks/{READ_CACHE_PREFIX}.ipynb')\n",
    "    os.system(f'jupyter nbconvert --no-prompt --no-input --output ../{WRITE_REPORT_PATH_NO_CODE} --to html notebooks/{READ_CACHE_PREFIX}.ipynb')\n",
    "if WRITE_CALLS:\n",
    "    with open(WRITE_CALLS_PATH, 'w') as f:\n",
    "        f.write('\\n'.join(model_results.calls))\n",
    "if WRITE_PARAMETERS:\n",
    "    with open(WRITE_PARAMETERS_PATH, 'w') as f:\n",
    "        f.write('\\n'.join(['\\t'.join((key, str(val))) for key, val in PARAMETERS]))"
   ]
  }
 ],
 "metadata": {
  "kernelspec": {
   "display_name": "Python [conda env:immunotyper-ill] *",
   "language": "python",
   "name": "conda-env-immunotyper-ill-py"
  },
  "language_info": {
   "codemirror_mode": {
    "name": "ipython",
    "version": 3
   },
   "file_extension": ".py",
   "mimetype": "text/x-python",
   "name": "python",
   "nbconvert_exporter": "python",
   "pygments_lexer": "ipython3",
   "version": "3.8.5"
  },
  "papermill": {
   "duration": 366.425072,
   "end_time": "2021-02-20T21:03:34.694892",
   "environment_variables": {},
   "exception": null,
   "input_path": "NA12878-150bp-art_sim-40x.ipynb",
   "output_path": "NA12878-150bp-art_sim-40x.ipynb",
   "parameters": {
    "WRITE_OUTPUTS": true
   },
   "start_time": "2021-02-20T20:57:28.269820",
   "version": "2.1.2"
  }
 },
 "nbformat": 4,
 "nbformat_minor": 4
}
